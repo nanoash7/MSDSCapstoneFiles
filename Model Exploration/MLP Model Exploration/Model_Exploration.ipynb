{
 "cells": [
  {
   "cell_type": "code",
   "execution_count": 1,
   "id": "fecaa6b6",
   "metadata": {
    "scrolled": true
   },
   "outputs": [
    {
     "name": "stdout",
     "output_type": "stream",
     "text": [
      "Requirement already satisfied: torch in c:\\users\\ashwi\\anaconda3\\lib\\site-packages (2.6.0)\n",
      "Requirement already satisfied: filelock in c:\\users\\ashwi\\anaconda3\\lib\\site-packages (from torch) (3.9.0)\n",
      "Requirement already satisfied: typing-extensions>=4.10.0 in c:\\users\\ashwi\\anaconda3\\lib\\site-packages (from torch) (4.12.2)\n",
      "Requirement already satisfied: networkx in c:\\users\\ashwi\\anaconda3\\lib\\site-packages (from torch) (3.1)\n",
      "Requirement already satisfied: jinja2 in c:\\users\\ashwi\\anaconda3\\lib\\site-packages (from torch) (3.1.2)\n",
      "Requirement already satisfied: fsspec in c:\\users\\ashwi\\anaconda3\\lib\\site-packages (from torch) (2023.4.0)\n",
      "Requirement already satisfied: sympy==1.13.1 in c:\\users\\ashwi\\anaconda3\\lib\\site-packages (from torch) (1.13.1)\n",
      "Requirement already satisfied: mpmath<1.4,>=1.1.0 in c:\\users\\ashwi\\anaconda3\\lib\\site-packages (from sympy==1.13.1->torch) (1.3.0)\n",
      "Requirement already satisfied: MarkupSafe>=2.0 in c:\\users\\ashwi\\anaconda3\\lib\\site-packages (from jinja2->torch) (2.1.1)\n"
     ]
    },
    {
     "name": "stderr",
     "output_type": "stream",
     "text": [
      "\n",
      "[notice] A new release of pip is available: 24.0 -> 25.0.1\n",
      "[notice] To update, run: python.exe -m pip install --upgrade pip\n"
     ]
    }
   ],
   "source": [
    "!pip install torch"
   ]
  },
  {
   "cell_type": "code",
   "execution_count": 3,
   "id": "c82b2dc7",
   "metadata": {},
   "outputs": [
    {
     "name": "stdout",
     "output_type": "stream",
     "text": [
      "Requirement already satisfied: numpy in c:\\users\\ashwi\\anaconda3\\lib\\site-packages (1.24.3)\n"
     ]
    },
    {
     "name": "stderr",
     "output_type": "stream",
     "text": [
      "\n",
      "[notice] A new release of pip is available: 24.0 -> 25.0.1\n",
      "[notice] To update, run: python.exe -m pip install --upgrade pip\n"
     ]
    },
    {
     "name": "stdout",
     "output_type": "stream",
     "text": [
      "Requirement already satisfied: scikit-learn in c:\\users\\ashwi\\anaconda3\\lib\\site-packages (1.3.0)"
     ]
    },
    {
     "name": "stderr",
     "output_type": "stream",
     "text": [
      "\n",
      "[notice] A new release of pip is available: 24.0 -> 25.0.1\n",
      "[notice] To update, run: python.exe -m pip install --upgrade pip\n"
     ]
    },
    {
     "name": "stdout",
     "output_type": "stream",
     "text": [
      "\n",
      "Requirement already satisfied: numpy>=1.17.3 in c:\\users\\ashwi\\anaconda3\\lib\\site-packages (from scikit-learn) (1.24.3)\n",
      "Requirement already satisfied: scipy>=1.5.0 in c:\\users\\ashwi\\anaconda3\\lib\\site-packages (from scikit-learn) (1.11.1)\n",
      "Requirement already satisfied: joblib>=1.1.1 in c:\\users\\ashwi\\anaconda3\\lib\\site-packages (from scikit-learn) (1.2.0)\n",
      "Requirement already satisfied: threadpoolctl>=2.0.0 in c:\\users\\ashwi\\anaconda3\\lib\\site-packages (from scikit-learn) (2.2.0)\n"
     ]
    }
   ],
   "source": [
    "!pip install numpy\n",
    "!pip install scikit-learn"
   ]
  },
  {
   "cell_type": "markdown",
   "id": "bb5fcff1",
   "metadata": {},
   "source": [
    "Read the raw data and save into a data frame."
   ]
  },
  {
   "cell_type": "code",
   "execution_count": 5,
   "id": "9c4dced5",
   "metadata": {},
   "outputs": [],
   "source": [
    "import torch\n",
    "import torch.nn as nn\n",
    "import torch.optim as optim\n",
    "import torch.utils.data as data\n",
    "import pandas as pd\n",
    "import numpy as np\n",
    "from sklearn.model_selection import train_test_split\n",
    "from sklearn.preprocessing import LabelEncoder, StandardScaler"
   ]
  },
  {
   "cell_type": "code",
   "execution_count": 6,
   "id": "1a360aea",
   "metadata": {
    "scrolled": true
   },
   "outputs": [
    {
     "name": "stderr",
     "output_type": "stream",
     "text": [
      "C:\\Users\\ashwi\\AppData\\Local\\Temp\\ipykernel_5532\\337948094.py:3: DtypeWarning: Columns (7,8,9) have mixed types. Specify dtype option on import or set low_memory=False.\n",
      "  df_chunk = pd.read_csv(f'event_frequency_dataset_{x}.csv',index_col=0)\n"
     ]
    },
    {
     "data": {
      "text/html": [
       "<div>\n",
       "<style scoped>\n",
       "    .dataframe tbody tr th:only-of-type {\n",
       "        vertical-align: middle;\n",
       "    }\n",
       "\n",
       "    .dataframe tbody tr th {\n",
       "        vertical-align: top;\n",
       "    }\n",
       "\n",
       "    .dataframe thead th {\n",
       "        text-align: right;\n",
       "    }\n",
       "</style>\n",
       "<table border=\"1\" class=\"dataframe\">\n",
       "  <thead>\n",
       "    <tr style=\"text-align: right;\">\n",
       "      <th></th>\n",
       "      <th>Time</th>\n",
       "      <th>Channel 0</th>\n",
       "      <th>Channel 1</th>\n",
       "      <th>event_id</th>\n",
       "      <th>original_id</th>\n",
       "      <th>event</th>\n",
       "      <th>start_time</th>\n",
       "      <th>end_time</th>\n",
       "      <th>source</th>\n",
       "      <th>parquet_files</th>\n",
       "    </tr>\n",
       "  </thead>\n",
       "  <tbody>\n",
       "    <tr>\n",
       "      <th>0</th>\n",
       "      <td>4310.00</td>\n",
       "      <td>0.021815</td>\n",
       "      <td>0.074526</td>\n",
       "      <td>2</td>\n",
       "      <td>9.0</td>\n",
       "      <td>meteor</td>\n",
       "      <td>2024-07-27 00:51:59</td>\n",
       "      <td>2024-07-27 00:52:01</td>\n",
       "      <td>AMS</td>\n",
       "      <td>E:/TDVS\\2024-07-27(6789)\\00-00(360)\\data-2024-...</td>\n",
       "    </tr>\n",
       "    <tr>\n",
       "      <th>1</th>\n",
       "      <td>4310.01</td>\n",
       "      <td>0.021064</td>\n",
       "      <td>0.009177</td>\n",
       "      <td>2</td>\n",
       "      <td>9.0</td>\n",
       "      <td>meteor</td>\n",
       "      <td>2024-07-27 00:51:59</td>\n",
       "      <td>2024-07-27 00:52:01</td>\n",
       "      <td>AMS</td>\n",
       "      <td>E:/TDVS\\2024-07-27(6789)\\00-00(360)\\data-2024-...</td>\n",
       "    </tr>\n",
       "    <tr>\n",
       "      <th>2</th>\n",
       "      <td>4310.02</td>\n",
       "      <td>0.020605</td>\n",
       "      <td>-0.009844</td>\n",
       "      <td>2</td>\n",
       "      <td>9.0</td>\n",
       "      <td>meteor</td>\n",
       "      <td>2024-07-27 00:51:59</td>\n",
       "      <td>2024-07-27 00:52:01</td>\n",
       "      <td>AMS</td>\n",
       "      <td>E:/TDVS\\2024-07-27(6789)\\00-00(360)\\data-2024-...</td>\n",
       "    </tr>\n",
       "    <tr>\n",
       "      <th>3</th>\n",
       "      <td>4310.03</td>\n",
       "      <td>0.020775</td>\n",
       "      <td>-0.007408</td>\n",
       "      <td>2</td>\n",
       "      <td>9.0</td>\n",
       "      <td>meteor</td>\n",
       "      <td>2024-07-27 00:51:59</td>\n",
       "      <td>2024-07-27 00:52:01</td>\n",
       "      <td>AMS</td>\n",
       "      <td>E:/TDVS\\2024-07-27(6789)\\00-00(360)\\data-2024-...</td>\n",
       "    </tr>\n",
       "    <tr>\n",
       "      <th>4</th>\n",
       "      <td>4310.04</td>\n",
       "      <td>0.020293</td>\n",
       "      <td>0.023452</td>\n",
       "      <td>2</td>\n",
       "      <td>9.0</td>\n",
       "      <td>meteor</td>\n",
       "      <td>2024-07-27 00:51:59</td>\n",
       "      <td>2024-07-27 00:52:01</td>\n",
       "      <td>AMS</td>\n",
       "      <td>E:/TDVS\\2024-07-27(6789)\\00-00(360)\\data-2024-...</td>\n",
       "    </tr>\n",
       "    <tr>\n",
       "      <th>...</th>\n",
       "      <td>...</td>\n",
       "      <td>...</td>\n",
       "      <td>...</td>\n",
       "      <td>...</td>\n",
       "      <td>...</td>\n",
       "      <td>...</td>\n",
       "      <td>...</td>\n",
       "      <td>...</td>\n",
       "      <td>...</td>\n",
       "      <td>...</td>\n",
       "    </tr>\n",
       "    <tr>\n",
       "      <th>4770761</th>\n",
       "      <td>2009.96</td>\n",
       "      <td>-2.441657</td>\n",
       "      <td>-2.450518</td>\n",
       "      <td>4338</td>\n",
       "      <td>NaN</td>\n",
       "      <td>non_event</td>\n",
       "      <td>NaN</td>\n",
       "      <td>NaN</td>\n",
       "      <td>NaN</td>\n",
       "      <td>E:/TDVS\\2024-08-19(8628)\\00-00(348)\\data-2024-...</td>\n",
       "    </tr>\n",
       "    <tr>\n",
       "      <th>4770762</th>\n",
       "      <td>2009.97</td>\n",
       "      <td>-2.441662</td>\n",
       "      <td>-2.450510</td>\n",
       "      <td>4338</td>\n",
       "      <td>NaN</td>\n",
       "      <td>non_event</td>\n",
       "      <td>NaN</td>\n",
       "      <td>NaN</td>\n",
       "      <td>NaN</td>\n",
       "      <td>E:/TDVS\\2024-08-19(8628)\\00-00(348)\\data-2024-...</td>\n",
       "    </tr>\n",
       "    <tr>\n",
       "      <th>4770763</th>\n",
       "      <td>2009.98</td>\n",
       "      <td>-2.441656</td>\n",
       "      <td>-2.450504</td>\n",
       "      <td>4338</td>\n",
       "      <td>NaN</td>\n",
       "      <td>non_event</td>\n",
       "      <td>NaN</td>\n",
       "      <td>NaN</td>\n",
       "      <td>NaN</td>\n",
       "      <td>E:/TDVS\\2024-08-19(8628)\\00-00(348)\\data-2024-...</td>\n",
       "    </tr>\n",
       "    <tr>\n",
       "      <th>4770764</th>\n",
       "      <td>2009.99</td>\n",
       "      <td>-2.441666</td>\n",
       "      <td>-2.450514</td>\n",
       "      <td>4338</td>\n",
       "      <td>NaN</td>\n",
       "      <td>non_event</td>\n",
       "      <td>NaN</td>\n",
       "      <td>NaN</td>\n",
       "      <td>NaN</td>\n",
       "      <td>E:/TDVS\\2024-08-19(8628)\\00-00(348)\\data-2024-...</td>\n",
       "    </tr>\n",
       "    <tr>\n",
       "      <th>4770765</th>\n",
       "      <td>2010.00</td>\n",
       "      <td>-2.441698</td>\n",
       "      <td>-2.450542</td>\n",
       "      <td>4338</td>\n",
       "      <td>NaN</td>\n",
       "      <td>non_event</td>\n",
       "      <td>NaN</td>\n",
       "      <td>NaN</td>\n",
       "      <td>NaN</td>\n",
       "      <td>E:/TDVS\\2024-08-19(8628)\\00-00(348)\\data-2024-...</td>\n",
       "    </tr>\n",
       "  </tbody>\n",
       "</table>\n",
       "<p>4770766 rows × 10 columns</p>\n",
       "</div>"
      ],
      "text/plain": [
       "            Time  Channel 0  Channel 1  event_id  original_id      event  \\\n",
       "0        4310.00   0.021815   0.074526         2          9.0     meteor   \n",
       "1        4310.01   0.021064   0.009177         2          9.0     meteor   \n",
       "2        4310.02   0.020605  -0.009844         2          9.0     meteor   \n",
       "3        4310.03   0.020775  -0.007408         2          9.0     meteor   \n",
       "4        4310.04   0.020293   0.023452         2          9.0     meteor   \n",
       "...          ...        ...        ...       ...          ...        ...   \n",
       "4770761  2009.96  -2.441657  -2.450518      4338          NaN  non_event   \n",
       "4770762  2009.97  -2.441662  -2.450510      4338          NaN  non_event   \n",
       "4770763  2009.98  -2.441656  -2.450504      4338          NaN  non_event   \n",
       "4770764  2009.99  -2.441666  -2.450514      4338          NaN  non_event   \n",
       "4770765  2010.00  -2.441698  -2.450542      4338          NaN  non_event   \n",
       "\n",
       "                  start_time             end_time source  \\\n",
       "0        2024-07-27 00:51:59  2024-07-27 00:52:01    AMS   \n",
       "1        2024-07-27 00:51:59  2024-07-27 00:52:01    AMS   \n",
       "2        2024-07-27 00:51:59  2024-07-27 00:52:01    AMS   \n",
       "3        2024-07-27 00:51:59  2024-07-27 00:52:01    AMS   \n",
       "4        2024-07-27 00:51:59  2024-07-27 00:52:01    AMS   \n",
       "...                      ...                  ...    ...   \n",
       "4770761                  NaN                  NaN    NaN   \n",
       "4770762                  NaN                  NaN    NaN   \n",
       "4770763                  NaN                  NaN    NaN   \n",
       "4770764                  NaN                  NaN    NaN   \n",
       "4770765                  NaN                  NaN    NaN   \n",
       "\n",
       "                                             parquet_files  \n",
       "0        E:/TDVS\\2024-07-27(6789)\\00-00(360)\\data-2024-...  \n",
       "1        E:/TDVS\\2024-07-27(6789)\\00-00(360)\\data-2024-...  \n",
       "2        E:/TDVS\\2024-07-27(6789)\\00-00(360)\\data-2024-...  \n",
       "3        E:/TDVS\\2024-07-27(6789)\\00-00(360)\\data-2024-...  \n",
       "4        E:/TDVS\\2024-07-27(6789)\\00-00(360)\\data-2024-...  \n",
       "...                                                    ...  \n",
       "4770761  E:/TDVS\\2024-08-19(8628)\\00-00(348)\\data-2024-...  \n",
       "4770762  E:/TDVS\\2024-08-19(8628)\\00-00(348)\\data-2024-...  \n",
       "4770763  E:/TDVS\\2024-08-19(8628)\\00-00(348)\\data-2024-...  \n",
       "4770764  E:/TDVS\\2024-08-19(8628)\\00-00(348)\\data-2024-...  \n",
       "4770765  E:/TDVS\\2024-08-19(8628)\\00-00(348)\\data-2024-...  \n",
       "\n",
       "[4770766 rows x 10 columns]"
      ]
     },
     "execution_count": 6,
     "metadata": {},
     "output_type": "execute_result"
    }
   ],
   "source": [
    "df_ml = pd.DataFrame()\n",
    "for x in range(10) : \n",
    "    df_chunk = pd.read_csv(f'event_frequency_dataset_{x}.csv',index_col=0)\n",
    "    df_ml = pd.concat([df_ml,df_chunk])\n",
    "df_ml"
   ]
  },
  {
   "cell_type": "markdown",
   "id": "48f8820f",
   "metadata": {},
   "source": [
    "Extract the input and output values and use the label encoder to assign a value to each of the output categories. Then, split the data into test and train data sets."
   ]
  },
  {
   "cell_type": "code",
   "execution_count": 7,
   "id": "80f3a8b3",
   "metadata": {},
   "outputs": [],
   "source": [
    "# Extract features and labels\n",
    "X = df_ml[['Channel 0', 'Channel 1']].values  # Features\n",
    "y = df_ml['event'].values  # Categorical labels\n",
    "\n",
    "# Encode labels (meteor=0, non_event=1, rocket=2)\n",
    "label_encoder = LabelEncoder()\n",
    "y = label_encoder.fit_transform(y)\n",
    "\n",
    "# Train-test split (80-20 split)\n",
    "X_train, X_test, y_train, y_test = train_test_split(X, y, test_size=0.2, random_state=42)\n",
    "\n",
    "# Standardize features (zero mean, unit variance)\n",
    "scaler = StandardScaler()\n",
    "X_train = scaler.fit_transform(X_train)\n",
    "X_test = scaler.transform(X_test)\n",
    "\n",
    "# Convert to PyTorch tensors\n",
    "X_train_tensor = torch.tensor(X_train, dtype=torch.float32)\n",
    "y_train_tensor = torch.tensor(y_train, dtype=torch.long)\n",
    "X_test_tensor = torch.tensor(X_test, dtype=torch.float32)\n",
    "y_test_tensor = torch.tensor(y_test, dtype=torch.long)\n",
    "\n",
    "# Create PyTorch DataLoaders\n",
    "batch_size = 2048\n",
    "train_dataset = data.TensorDataset(X_train_tensor, y_train_tensor)\n",
    "test_dataset = data.TensorDataset(X_test_tensor, y_test_tensor)\n",
    "train_loader = data.DataLoader(train_dataset, batch_size=batch_size, shuffle=True)\n",
    "test_loader = data.DataLoader(test_dataset, batch_size=batch_size, shuffle=False)"
   ]
  },
  {
   "cell_type": "markdown",
   "id": "91153228",
   "metadata": {},
   "source": [
    "Define the Multi-Layer Perceptron model."
   ]
  },
  {
   "cell_type": "code",
   "execution_count": null,
   "id": "fa2e5225",
   "metadata": {},
   "outputs": [],
   "source": [
    "class MLP(nn.Module):\n",
    "    def __init__(self):\n",
    "        super(MLP, self).__init__()\n",
    "        self.fc1 = nn.Linear(2, 32)\n",
    "        self.fc2 = nn.Linear(32, 3)\n",
    "        self.relu = nn.ReLU()\n",
    "    \n",
    "    def forward(self, x):\n",
    "        x = self.relu(self.fc1(x))\n",
    "        x = self.fc2(x)\n",
    "        return x\n",
    "\n"
   ]
  },
  {
   "cell_type": "markdown",
   "id": "51d9e81b",
   "metadata": {},
   "source": [
    "Train the MLP model for 20 epochs and guage the loss at each step."
   ]
  },
  {
   "cell_type": "code",
   "execution_count": 11,
   "id": "ae789855",
   "metadata": {
    "scrolled": true
   },
   "outputs": [
    {
     "name": "stdout",
     "output_type": "stream",
     "text": [
      "Epoch [1/20], Loss: 0.8572\n",
      "Epoch [2/20], Loss: 0.8033\n",
      "Epoch [3/20], Loss: 0.7762\n",
      "Epoch [4/20], Loss: 0.7564\n",
      "Epoch [5/20], Loss: 0.7409\n",
      "Epoch [6/20], Loss: 0.7308\n",
      "Epoch [7/20], Loss: 0.7230\n",
      "Epoch [8/20], Loss: 0.7171\n",
      "Epoch [9/20], Loss: 0.7119\n",
      "Epoch [10/20], Loss: 0.7070\n",
      "Epoch [11/20], Loss: 0.7023\n",
      "Epoch [12/20], Loss: 0.6975\n",
      "Epoch [13/20], Loss: 0.6928\n",
      "Epoch [14/20], Loss: 0.6884\n",
      "Epoch [15/20], Loss: 0.6842\n",
      "Epoch [16/20], Loss: 0.6805\n",
      "Epoch [17/20], Loss: 0.6770\n",
      "Epoch [18/20], Loss: 0.6739\n",
      "Epoch [19/20], Loss: 0.6710\n",
      "Epoch [20/20], Loss: 0.6684\n",
      "Training complete!\n"
     ]
    }
   ],
   "source": [
    "device = torch.device(\"cuda\" if torch.cuda.is_available() else \"cpu\")\n",
    "\n",
    "#model = LogisticRegressionModel().to(device)\n",
    "model = MLP().to(device)\n",
    "\n",
    "# Loss function and optimizer\n",
    "criterion = nn.CrossEntropyLoss()\n",
    "optimizer = optim.SGD(model.parameters(), lr=0.01)\n",
    "\n",
    "# Training loop\n",
    "epochs = 20\n",
    "for epoch in range(epochs):\n",
    "    model.train()\n",
    "    total_loss = 0\n",
    "    for inputs, labels in train_loader:\n",
    "        inputs, labels = inputs.to(device), labels.to(device)\n",
    "        \n",
    "        optimizer.zero_grad()\n",
    "        outputs = model(inputs)\n",
    "        loss = criterion(outputs, labels)\n",
    "        loss.backward()\n",
    "        optimizer.step()\n",
    "        \n",
    "        total_loss += loss.item()\n",
    "    \n",
    "    print(f\"Epoch [{epoch+1}/{epochs}], Loss: {total_loss / len(train_loader):.4f}\")\n",
    "\n",
    "print(\"Training complete!\")\n"
   ]
  },
  {
   "cell_type": "markdown",
   "id": "05d8379a",
   "metadata": {},
   "source": [
    "Evaluate the model's accuracy."
   ]
  },
  {
   "cell_type": "code",
   "execution_count": 12,
   "id": "6a056ed9",
   "metadata": {},
   "outputs": [
    {
     "name": "stdout",
     "output_type": "stream",
     "text": [
      "Test Accuracy: 74.82%\n"
     ]
    }
   ],
   "source": [
    "model.eval()\n",
    "correct = 0\n",
    "total = 0\n",
    "with torch.no_grad():\n",
    "    for inputs, labels in test_loader:\n",
    "        inputs, labels = inputs.to(device), labels.to(device)\n",
    "        outputs = model(inputs)\n",
    "        _, predicted = torch.max(outputs, 1)\n",
    "        correct += (predicted == labels).sum().item()\n",
    "        total += labels.size(0)\n",
    "\n",
    "accuracy = 100 * correct / total\n",
    "print(f\"Test Accuracy: {accuracy:.2f}%\")"
   ]
  },
  {
   "cell_type": "markdown",
   "id": "62036d21",
   "metadata": {},
   "source": [
    "Repeat the model training but make sure that rows with the same id are not found in both the test and train data sets (Improves the reliability of the model)."
   ]
  },
  {
   "cell_type": "code",
   "execution_count": 15,
   "id": "7f90baf4",
   "metadata": {
    "scrolled": true
   },
   "outputs": [
    {
     "name": "stdout",
     "output_type": "stream",
     "text": [
      "Train set size: 4018014, Test set size: 752752\n",
      "Unique event_ids in Train: 2640\n",
      "Unique event_ids in Test: 660\n",
      "Train & Test Overlap: 0\n"
     ]
    }
   ],
   "source": [
    "# Get unique event_ids\n",
    "unique_event_ids = df_ml['event_id'].unique()\n",
    "\n",
    "# Split event_ids into train and test (80-20 split)\n",
    "train_ids, test_ids = train_test_split(unique_event_ids, test_size=0.2, random_state=42)\n",
    "\n",
    "# Assign rows based on event_id\n",
    "train_df = df_ml[df_ml['event_id'].isin(train_ids)]\n",
    "test_df = df_ml[df_ml['event_id'].isin(test_ids)]\n",
    "\n",
    "# Extract features and labels\n",
    "X_train = train_df[['Channel 0', 'Channel 1']].values\n",
    "y_train = train_df['event'].values\n",
    "X_test = test_df[['Channel 0', 'Channel 1']].values\n",
    "y_test = test_df['event'].values\n",
    "\n",
    "# Encode labels (meteor=0, non_event=1, rocket=2)\n",
    "label_mapping = {'meteor': 0, 'non_event': 1, 'rocket': 2}\n",
    "y_train = np.array([label_mapping[label] for label in y_train])\n",
    "y_test = np.array([label_mapping[label] for label in y_test])\n",
    "\n",
    "# Standardize features\n",
    "scaler = StandardScaler()\n",
    "X_train = scaler.fit_transform(X_train)\n",
    "X_test = scaler.transform(X_test)\n",
    "\n",
    "# Convert to PyTorch tensors\n",
    "X_train_tensor = torch.tensor(X_train, dtype=torch.float32)\n",
    "y_train_tensor = torch.tensor(y_train, dtype=torch.long)\n",
    "X_test_tensor = torch.tensor(X_test, dtype=torch.float32)\n",
    "y_test_tensor = torch.tensor(y_test, dtype=torch.long)\n",
    "\n",
    "# Create PyTorch DataLoaders\n",
    "batch_size = 2048\n",
    "train_dataset = data.TensorDataset(X_train_tensor, y_train_tensor)\n",
    "test_dataset = data.TensorDataset(X_test_tensor, y_test_tensor)\n",
    "train_loader = data.DataLoader(train_dataset, batch_size=batch_size, shuffle=True)\n",
    "test_loader = data.DataLoader(test_dataset, batch_size=batch_size, shuffle=False)\n",
    "\n",
    "# Verify correct split\n",
    "print(f\"Train set size: {len(train_df)}, Test set size: {len(test_df)}\")\n",
    "print(f\"Unique event_ids in Train: {len(set(train_df['event_id']))}\")\n",
    "print(f\"Unique event_ids in Test: {len(set(test_df['event_id']))}\")\n",
    "print(f\"Train & Test Overlap: {len(set(train_df['event_id']) & set(test_df['event_id']))}\")  # Should be 0\n"
   ]
  },
  {
   "cell_type": "code",
   "execution_count": 17,
   "id": "b0978623",
   "metadata": {
    "scrolled": true
   },
   "outputs": [
    {
     "name": "stdout",
     "output_type": "stream",
     "text": [
      "Epoch [1/30], Loss: 0.8944\n",
      "Epoch [2/30], Loss: 0.8382\n",
      "Epoch [3/30], Loss: 0.8126\n",
      "Epoch [4/30], Loss: 0.7938\n",
      "Epoch [5/30], Loss: 0.7786\n",
      "Epoch [6/30], Loss: 0.7660\n",
      "Epoch [7/30], Loss: 0.7564\n",
      "Epoch [8/30], Loss: 0.7477\n",
      "Epoch [9/30], Loss: 0.7397\n",
      "Epoch [10/30], Loss: 0.7334\n",
      "Epoch [11/30], Loss: 0.7277\n",
      "Epoch [12/30], Loss: 0.7223\n",
      "Epoch [13/30], Loss: 0.7175\n",
      "Epoch [14/30], Loss: 0.7130\n",
      "Epoch [15/30], Loss: 0.7087\n",
      "Epoch [16/30], Loss: 0.7045\n",
      "Epoch [17/30], Loss: 0.7005\n",
      "Epoch [18/30], Loss: 0.6965\n",
      "Epoch [19/30], Loss: 0.6927\n",
      "Epoch [20/30], Loss: 0.6890\n",
      "Epoch [21/30], Loss: 0.6854\n",
      "Epoch [22/30], Loss: 0.6821\n",
      "Epoch [23/30], Loss: 0.6789\n",
      "Epoch [24/30], Loss: 0.6759\n",
      "Epoch [25/30], Loss: 0.6731\n",
      "Epoch [26/30], Loss: 0.6705\n",
      "Epoch [27/30], Loss: 0.6680\n",
      "Epoch [28/30], Loss: 0.6656\n",
      "Epoch [29/30], Loss: 0.6634\n",
      "Epoch [30/30], Loss: 0.6612\n",
      "Training complete!\n"
     ]
    }
   ],
   "source": [
    "device = torch.device(\"cuda\" if torch.cuda.is_available() else \"cpu\")\n",
    "\n",
    "#model = LogisticRegressionModel().to(device)\n",
    "model = MLP().to(device)\n",
    "\n",
    "# Loss function and optimizer\n",
    "criterion = nn.CrossEntropyLoss()\n",
    "optimizer = optim.SGD(model.parameters(), lr=0.01)\n",
    "\n",
    "# Training loop\n",
    "epochs = 30\n",
    "for epoch in range(epochs):\n",
    "    model.train()\n",
    "    total_loss = 0\n",
    "    for inputs, labels in train_loader:\n",
    "        inputs, labels = inputs.to(device), labels.to(device)\n",
    "        \n",
    "        optimizer.zero_grad()\n",
    "        outputs = model(inputs)\n",
    "        loss = criterion(outputs, labels)\n",
    "        loss.backward()\n",
    "        optimizer.step()\n",
    "        \n",
    "        total_loss += loss.item()\n",
    "    \n",
    "    print(f\"Epoch [{epoch+1}/{epochs}], Loss: {total_loss / len(train_loader):.4f}\")\n",
    "\n",
    "print(\"Training complete!\")"
   ]
  },
  {
   "cell_type": "code",
   "execution_count": 18,
   "id": "7bc6772a",
   "metadata": {},
   "outputs": [
    {
     "name": "stdout",
     "output_type": "stream",
     "text": [
      "Test Accuracy: 73.40%\n"
     ]
    }
   ],
   "source": [
    "model.eval()\n",
    "correct = 0\n",
    "total = 0\n",
    "with torch.no_grad():\n",
    "    for inputs, labels in test_loader:\n",
    "        inputs, labels = inputs.to(device), labels.to(device)\n",
    "        outputs = model(inputs)\n",
    "        _, predicted = torch.max(outputs, 1)\n",
    "        correct += (predicted == labels).sum().item()\n",
    "        total += labels.size(0)\n",
    "\n",
    "accuracy = 100 * correct / total\n",
    "print(f\"Test Accuracy: {accuracy:.2f}%\")"
   ]
  },
  {
   "cell_type": "markdown",
   "id": "dc6acfcd",
   "metadata": {},
   "source": [
    "For the more robust model (no id overlap), create a heatmap showing the prediction accuracy for each category."
   ]
  },
  {
   "cell_type": "code",
   "execution_count": 21,
   "id": "9f015243",
   "metadata": {},
   "outputs": [
    {
     "data": {
      "image/png": "[encoded data removed]",
      "text/plain": [
       "<Figure size 600x500 with 1 Axes>"
      ]
     },
     "metadata": {},
     "output_type": "display_data"
    }
   ],
   "source": [
    "# Assuming you have your trained MLP model and test loader\n",
    "model.eval()\n",
    "with torch.no_grad():\n",
    "    predictions = []\n",
    "    true_labels = []\n",
    "    for inputs, labels in test_loader:\n",
    "        inputs, labels = inputs.to(device), labels.to(device)\n",
    "        outputs = model(inputs)\n",
    "        _, predicted = torch.max(outputs, 1)  # Get predicted class\n",
    "        predictions.extend(predicted.cpu().numpy())  # Store predictions\n",
    "        true_labels.extend(labels.cpu().numpy())  # Store true labels\n",
    "        \n",
    "from sklearn.metrics import confusion_matrix\n",
    "\n",
    "# Compute confusion matrix\n",
    "cm = confusion_matrix(true_labels, predictions, normalize='true')\n",
    "\n",
    "# Make sure the confusion matrix is 3x3 (since there are 3 classes)\n",
    "assert cm.shape == (3, 3), \"Confusion matrix is not 3x3!\"\n",
    "\n",
    "import matplotlib.pyplot as plt\n",
    "import seaborn as sns\n",
    "\n",
    "# Create a heatmap for the confusion matrix\n",
    "plt.figure(figsize=(6, 5))\n",
    "sns.heatmap(cm, annot=True, fmt='.2f', cmap='Blues', xticklabels=['Meteor', 'Non-Event', 'Rocket'], yticklabels=['Meteor', 'Non-Event', 'Rocket'], cbar=False)\n",
    "\n",
    "plt.title('Confusion Matrix')\n",
    "plt.xlabel('Predicted Label')\n",
    "plt.ylabel('Actual Label')\n",
    "plt.show()"
   ]
  }
 ],
 "metadata": {
  "kernelspec": {
   "display_name": "Python 3 (ipykernel)",
   "language": "python",
   "name": "python3"
  },
  "language_info": {
   "codemirror_mode": {
    "name": "ipython",
    "version": 3
   },
   "file_extension": ".py",
   "mimetype": "text/x-python",
   "name": "python",
   "nbconvert_exporter": "python",
   "pygments_lexer": "ipython3",
   "version": "3.11.5"
  }
 },
 "nbformat": 4,
 "nbformat_minor": 5
}
